{
 "cells": [
  {
   "cell_type": "code",
   "execution_count": null,
   "id": "9c6887b1",
   "metadata": {},
   "outputs": [],
   "source": [
    "pip install praw"
   ]
  },
  {
   "cell_type": "code",
   "execution_count": 1,
   "id": "ee4d6011",
   "metadata": {},
   "outputs": [
    {
     "name": "stdout",
     "output_type": "stream",
     "text": [
      "Scraping: r/wallstreetbets\n",
      "Scraping: r/IndiaInvestments\n",
      "✅ Scraped 175 posts\n"
     ]
    }
   ],
   "source": [
    "import praw\n",
    "import pandas as pd\n",
    "from datetime import datetime, timedelta, timezone\n",
    "\n",
    "# --- YOUR API CREDENTIALS HERE ---\n",
    "reddit = praw.Reddit(\n",
    "    client_id=\"HyQsjZl6wPb1e5_b3ztY-Q\",\n",
    "    client_secret=\"Nnbso4_IlsNKG2xDbIuFBYwuQbVfuA\",\n",
    "    user_agent=\"MySentimentScript by u/vishnu\"\n",
    ")\n",
    "\n",
    "# --- CONFIG ---\n",
    "SUBREDDITS = ['wallstreetbets', 'IndiaInvestments']\n",
    "KEYWORDS = ['Tesla', 'TSLA', 'Nifty', 'Sensex', 'NSE', 'India market']\n",
    "DAYS_BACK = 180\n",
    "LIMIT = 1000\n",
    "\n",
    "# --- SCRAPE ---\n",
    "all_posts = []\n",
    "\n",
    "for subreddit in SUBREDDITS:\n",
    "    print(f\"Scraping: r/{subreddit}\")\n",
    "    for post in reddit.subreddit(subreddit).new(limit=LIMIT):\n",
    "        post_time = datetime.fromtimestamp(post.created_utc, tz=timezone.utc)\n",
    "        if post_time < datetime.now(timezone.utc) - timedelta(days=DAYS_BACK):\n",
    "            continue\n",
    "\n",
    "        text = (post.title + \" \" + post.selftext).lower()\n",
    "        if any(keyword.lower() in text for keyword in KEYWORDS):\n",
    "            all_posts.append({\n",
    "                'date': post_time.date(),\n",
    "                'title': post.title,\n",
    "                'content': post.selftext,\n",
    "                'url': post.url,\n",
    "                'subreddit': subreddit\n",
    "            })\n",
    "\n",
    "# --- SAVE ---\n",
    "df = pd.DataFrame(all_posts)\n",
    "print(f\"✅ Scraped {len(df)} posts\")\n",
    "df.to_csv(\"reddit_sentiment_data.csv\", index=False)\n"
   ]
  },
  {
   "cell_type": "markdown",
   "id": "6339c290",
   "metadata": {},
   "source": [
    "🔥 PHASE 3: News Headline Scraper\n",
    "Perfect. Now let’s build the news headline scraping module using NewsAPI to fetch headlines about:\n",
    "\n",
    "Tesla\n",
    "\n",
    "Nifty 50 / Indian markets\n",
    "\n",
    "For the last 6 months\n",
    "\n"
   ]
  },
  {
   "cell_type": "code",
   "execution_count": 2,
   "id": "bdc0f9c8",
   "metadata": {},
   "outputs": [
    {
     "name": "stdout",
     "output_type": "stream",
     "text": [
      "Requirement already satisfied: newsapi-python in c:\\users\\vishnu vardhan\\anaconda3\\lib\\site-packages (0.2.7)Note: you may need to restart the kernel to use updated packages.\n",
      "\n",
      "Requirement already satisfied: requests<3.0.0 in c:\\users\\vishnu vardhan\\anaconda3\\lib\\site-packages (from newsapi-python) (2.32.2)\n",
      "Requirement already satisfied: charset-normalizer<4,>=2 in c:\\users\\vishnu vardhan\\anaconda3\\lib\\site-packages (from requests<3.0.0->newsapi-python) (2.0.4)\n",
      "Requirement already satisfied: idna<4,>=2.5 in c:\\users\\vishnu vardhan\\anaconda3\\lib\\site-packages (from requests<3.0.0->newsapi-python) (3.7)\n",
      "Requirement already satisfied: urllib3<3,>=1.21.1 in c:\\users\\vishnu vardhan\\anaconda3\\lib\\site-packages (from requests<3.0.0->newsapi-python) (2.2.2)\n",
      "Requirement already satisfied: certifi>=2017.4.17 in c:\\users\\vishnu vardhan\\anaconda3\\lib\\site-packages (from requests<3.0.0->newsapi-python) (2024.6.2)\n"
     ]
    }
   ],
   "source": [
    "pip install newsapi-python"
   ]
  },
  {
   "cell_type": "code",
   "execution_count": 2,
   "id": "28f7277d",
   "metadata": {},
   "outputs": [
    {
     "name": "stdout",
     "output_type": "stream",
     "text": [
      "🔍 Searching news for: Tesla\n",
      "❌ Error fetching page 2 for Tesla: {'status': 'error', 'code': 'maximumResultsReached', 'message': 'You have requested too many results. Developer accounts are limited to a max of 100 results. You are trying to request results 100 to 200. Please upgrade to a paid plan if you need more results.'}\n",
      "🔍 Searching news for: TSLA\n",
      "❌ Error fetching page 2 for TSLA: {'status': 'error', 'code': 'maximumResultsReached', 'message': 'You have requested too many results. Developer accounts are limited to a max of 100 results. You are trying to request results 100 to 200. Please upgrade to a paid plan if you need more results.'}\n",
      "🔍 Searching news for: Nifty 50\n",
      "❌ Error fetching page 2 for Nifty 50: {'status': 'error', 'code': 'maximumResultsReached', 'message': 'You have requested too many results. Developer accounts are limited to a max of 100 results. You are trying to request results 100 to 200. Please upgrade to a paid plan if you need more results.'}\n",
      "🔍 Searching news for: India Market\n",
      "❌ Error fetching page 2 for India Market: {'status': 'error', 'code': 'maximumResultsReached', 'message': 'You have requested too many results. Developer accounts are limited to a max of 100 results. You are trying to request results 100 to 200. Please upgrade to a paid plan if you need more results.'}\n",
      "🔍 Searching news for: Sensex\n",
      "❌ Error fetching page 2 for Sensex: {'status': 'error', 'code': 'maximumResultsReached', 'message': 'You have requested too many results. Developer accounts are limited to a max of 100 results. You are trying to request results 100 to 200. Please upgrade to a paid plan if you need more results.'}\n",
      "🔍 Searching news for: NSE\n",
      "❌ Error fetching page 2 for NSE: {'status': 'error', 'code': 'maximumResultsReached', 'message': 'You have requested too many results. Developer accounts are limited to a max of 100 results. You are trying to request results 100 to 200. Please upgrade to a paid plan if you need more results.'}\n",
      "\n",
      "✅ Total articles fetched: 600\n"
     ]
    }
   ],
   "source": [
    "from newsapi import NewsApiClient\n",
    "import pandas as pd\n",
    "from datetime import datetime, timedelta\n",
    "\n",
    "# --- CONFIG ---\n",
    "API_KEY = 'YOUR_NEWSAPI_KEY'  # ← Replace this\n",
    "newsapi = NewsApiClient(api_key=\"5ad34289e95c419e817756060ac2d7a4\")\n",
    "\n",
    "KEYWORDS = ['Tesla', 'TSLA', 'Nifty 50', 'India Market', 'Sensex', 'NSE']\n",
    "DAYS_BACK = 28\n",
    "LANGUAGE = 'en'\n",
    "PAGE_SIZE = 100  # Max per request\n",
    "\n",
    "# --- DATE RANGE ---\n",
    "to_date = datetime.today()\n",
    "from_date = to_date - timedelta(days=DAYS_BACK)\n",
    "\n",
    "# --- COLLECT HEADLINES ---\n",
    "all_articles = []\n",
    "\n",
    "for keyword in KEYWORDS:\n",
    "    print(f\"🔍 Searching news for: {keyword}\")\n",
    "    for page in range(1, 6):  # 5 pages * 100 results = 500 max per keyword\n",
    "        try:\n",
    "            articles = newsapi.get_everything(\n",
    "                q=keyword,\n",
    "                from_param=from_date.strftime('%Y-%m-%d'),\n",
    "                to=to_date.strftime('%Y-%m-%d'),\n",
    "                language=LANGUAGE,\n",
    "                sort_by='relevancy',\n",
    "                page=page,\n",
    "                page_size=PAGE_SIZE\n",
    "            )\n",
    "\n",
    "            if not articles['articles']:\n",
    "                break\n",
    "\n",
    "            for article in articles['articles']:\n",
    "                all_articles.append({\n",
    "                    'date': article['publishedAt'][:10],\n",
    "                    'title': article['title'],\n",
    "                    'content': article['description'] or \"\",\n",
    "                    'source': article['source']['name'],\n",
    "                    'url': article['url'],\n",
    "                    'keyword': keyword\n",
    "                })\n",
    "        except Exception as e:\n",
    "            print(f\"❌ Error fetching page {page} for {keyword}: {e}\")\n",
    "            break\n",
    "\n",
    "print(f\"\\n✅ Total articles fetched: {len(all_articles)}\")\n",
    "\n",
    "# --- SAVE TO CSV ---\n",
    "df_news = pd.DataFrame(all_articles)\n",
    "df_news.to_csv(\"newsapi_tesla_nifty.csv\", index=False)\n"
   ]
  },
  {
   "cell_type": "markdown",
   "id": "c1cae730",
   "metadata": {},
   "source": [
    "Next step: Use FinBERT to classify the sentiment (Positive / Negative / Neutral) of each headline or Reddit post.\n",
    "\n",
    "🧠 What Is FinBERT?\n",
    "FinBERT is a financial-domain fine-tuned BERT model. It’s specifically trained on finance-related text (e.g., earnings calls, financial news), so it's perfect for this use case.\n",
    "\n"
   ]
  },
  {
   "cell_type": "code",
   "execution_count": null,
   "id": "d309c6d8",
   "metadata": {},
   "outputs": [],
   "source": []
  },
  {
   "cell_type": "code",
   "execution_count": null,
   "id": "f8e57b50",
   "metadata": {},
   "outputs": [],
   "source": [
    "pip install transformers"
   ]
  },
  {
   "cell_type": "code",
   "execution_count": null,
   "id": "403e2002",
   "metadata": {},
   "outputs": [],
   "source": [
    "pip install torch"
   ]
  },
  {
   "cell_type": "code",
   "execution_count": 3,
   "id": "76476cfa",
   "metadata": {},
   "outputs": [
    {
     "data": {
      "application/vnd.jupyter.widget-view+json": {
       "model_id": "82393aca812a4f7699eeba4afcefe4b0",
       "version_major": 2,
       "version_minor": 0
      },
      "text/plain": [
       "config.json:   0%|          | 0.00/533 [00:00<?, ?B/s]"
      ]
     },
     "metadata": {},
     "output_type": "display_data"
    },
    {
     "name": "stderr",
     "output_type": "stream",
     "text": [
      "c:\\Users\\vishnu vardhan\\anaconda3\\Lib\\site-packages\\huggingface_hub\\file_download.py:143: UserWarning: `huggingface_hub` cache-system uses symlinks by default to efficiently store duplicated files but your machine does not support them in C:\\Users\\vishnu vardhan\\.cache\\huggingface\\hub\\models--yiyanghkust--finbert-tone. Caching files will still work but in a degraded version that might require more space on your disk. This warning can be disabled by setting the `HF_HUB_DISABLE_SYMLINKS_WARNING` environment variable. For more details, see https://huggingface.co/docs/huggingface_hub/how-to-cache#limitations.\n",
      "To support symlinks on Windows, you either need to activate Developer Mode or to run Python as an administrator. In order to activate developer mode, see this article: https://docs.microsoft.com/en-us/windows/apps/get-started/enable-your-device-for-development\n",
      "  warnings.warn(message)\n"
     ]
    },
    {
     "data": {
      "application/vnd.jupyter.widget-view+json": {
       "model_id": "b88e29327e0848e7bac70893a5ad06a2",
       "version_major": 2,
       "version_minor": 0
      },
      "text/plain": [
       "vocab.txt:   0%|          | 0.00/226k [00:00<?, ?B/s]"
      ]
     },
     "metadata": {},
     "output_type": "display_data"
    },
    {
     "data": {
      "application/vnd.jupyter.widget-view+json": {
       "model_id": "dd7eba43c9e349bf87b934568ebbffa4",
       "version_major": 2,
       "version_minor": 0
      },
      "text/plain": [
       "pytorch_model.bin:   0%|          | 0.00/439M [00:00<?, ?B/s]"
      ]
     },
     "metadata": {},
     "output_type": "display_data"
    },
    {
     "name": "stderr",
     "output_type": "stream",
     "text": [
      "Device set to use cpu\n"
     ]
    },
    {
     "data": {
      "application/vnd.jupyter.widget-view+json": {
       "model_id": "60c7eee8935f47cbbca421face45019d",
       "version_major": 2,
       "version_minor": 0
      },
      "text/plain": [
       "model.safetensors:   0%|          | 0.00/439M [00:00<?, ?B/s]"
      ]
     },
     "metadata": {},
     "output_type": "display_data"
    }
   ],
   "source": [
    "from transformers import AutoTokenizer, AutoModelForSequenceClassification, pipeline\n",
    "\n",
    "model_name = \"yiyanghkust/finbert-tone\"\n",
    "tokenizer = AutoTokenizer.from_pretrained(model_name)\n",
    "model = AutoModelForSequenceClassification.from_pretrained(model_name)\n",
    "\n",
    "finbert = pipeline(\"sentiment-analysis\", model=model, tokenizer=tokenizer)"
   ]
  },
  {
   "cell_type": "code",
   "execution_count": 4,
   "id": "9acba7d0",
   "metadata": {},
   "outputs": [
    {
     "name": "stdout",
     "output_type": "stream",
     "text": [
      "[{'label': 'Negative', 'score': 0.9827950596809387}]\n"
     ]
    }
   ],
   "source": [
    "print(finbert(\"The Indian market looks very risky today.\"))"
   ]
  },
  {
   "cell_type": "code",
   "execution_count": 5,
   "id": "d25eaaa3",
   "metadata": {},
   "outputs": [],
   "source": [
    "import pandas as pd\n",
    "\n",
    "reddit_df = pd.read_csv(\"reddit_sentiment_data.csv\")\n",
    "news_df = pd.read_csv(\"newsapi_tesla_nifty.csv\")\n"
   ]
  },
  {
   "cell_type": "code",
   "execution_count": 7,
   "id": "abd2ce39",
   "metadata": {},
   "outputs": [],
   "source": [
    "# Combine title + content\n",
    "# Combine title + content safely\n",
    "MAX_LEN = 1000  # characters, not tokens\n",
    "reddit_df[\"text\"] = (reddit_df[\"title\"].fillna('') + \". \" + reddit_df[\"content\"].fillna('')).str[:MAX_LEN]\n",
    "news_df[\"text\"] = (news_df[\"title\"].fillna('') + \". \" + news_df[\"content\"].fillna('')).str[:MAX_LEN]\n",
    "\n",
    "\n",
    "# Run in batches for performance\n",
    "def analyze_sentiment(texts):\n",
    "    return finbert(texts)\n",
    "\n",
    "# Batch processing\n",
    "def batch_sentiment(df, text_col=\"text\", batch_size=32):\n",
    "    sentiments = []\n",
    "    for i in range(0, len(df), batch_size):\n",
    "        batch = df[text_col].iloc[i:i+batch_size].tolist()\n",
    "        results = analyze_sentiment(batch)\n",
    "        sentiments.extend(results)\n",
    "    return sentiments\n",
    "\n",
    "# Apply to Reddit\n",
    "reddit_results = batch_sentiment(reddit_df)\n",
    "reddit_df[\"sentiment\"] = [r[\"label\"] for r in reddit_results]\n",
    "reddit_df[\"confidence\"] = [r[\"score\"] for r in reddit_results]\n",
    "\n",
    "# Apply to News\n",
    "news_results = batch_sentiment(news_df)\n",
    "news_df[\"sentiment\"] = [r[\"label\"] for r in news_results]\n",
    "news_df[\"confidence\"] = [r[\"score\"] for r in news_results]\n"
   ]
  },
  {
   "cell_type": "code",
   "execution_count": 39,
   "id": "52e0d003",
   "metadata": {},
   "outputs": [],
   "source": [
    "reddit_df.to_csv(\"reddit_sentiment_labeled.csv\", index=False)\n",
    "news_df.to_csv(\"news_sentiment_labeled.csv\", index=False)\n"
   ]
  },
  {
   "cell_type": "markdown",
   "id": "127688f3",
   "metadata": {},
   "source": [
    "Step 4: Topic Tagging – Tesla vs Nifty"
   ]
  },
  {
   "cell_type": "code",
   "execution_count": 9,
   "id": "afeec151",
   "metadata": {},
   "outputs": [],
   "source": [
    "TESLA_KEYWORDS = [\"tesla\", \"tsla\", \"elon\"]\n",
    "NIFTY_KEYWORDS = [\"nifty\", \"nse\", \"india\", \"sensex\", \"indian\"]\n"
   ]
  },
  {
   "cell_type": "code",
   "execution_count": 10,
   "id": "a32f6780",
   "metadata": {},
   "outputs": [],
   "source": [
    "def identify_topic(text):\n",
    "    text = text.lower()\n",
    "    tesla_found = any(word in text for word in TESLA_KEYWORDS)\n",
    "    nifty_found = any(word in text for word in NIFTY_KEYWORDS)\n",
    "    \n",
    "    if tesla_found and nifty_found:\n",
    "        return \"Both\"\n",
    "    elif tesla_found:\n",
    "        return \"Tesla\"\n",
    "    elif nifty_found:\n",
    "        return \"Nifty\"\n",
    "    else:\n",
    "        return \"Unknown\"\n"
   ]
  },
  {
   "cell_type": "code",
   "execution_count": 11,
   "id": "257ca047",
   "metadata": {},
   "outputs": [],
   "source": [
    "reddit_df[\"topic\"] = reddit_df[\"text\"].apply(identify_topic)\n",
    "news_df[\"topic\"] = news_df[\"text\"].apply(identify_topic)\n"
   ]
  },
  {
   "cell_type": "code",
   "execution_count": 12,
   "id": "720edfc0",
   "metadata": {},
   "outputs": [
    {
     "name": "stdout",
     "output_type": "stream",
     "text": [
      "topic\n",
      "Nifty      102\n",
      "Tesla       48\n",
      "Unknown     22\n",
      "Both         3\n",
      "Name: count, dtype: int64\n",
      "topic\n",
      "Nifty      321\n",
      "Tesla      176\n",
      "Unknown    101\n",
      "Both         2\n",
      "Name: count, dtype: int64\n"
     ]
    }
   ],
   "source": [
    "print(reddit_df[\"topic\"].value_counts())\n",
    "print(news_df[\"topic\"].value_counts())\n"
   ]
  },
  {
   "cell_type": "code",
   "execution_count": 38,
   "id": "38e17b69",
   "metadata": {},
   "outputs": [],
   "source": [
    "reddit_df.to_csv(\"reddit_sentiment_labeled.csv\", index=False)\n",
    "news_df.to_csv(\"news_sentiment_labeled.csv\", index=False)\n"
   ]
  },
  {
   "cell_type": "code",
   "execution_count": 14,
   "id": "329175c5",
   "metadata": {},
   "outputs": [],
   "source": [
    "import yfinance as yf\n",
    "import pandas as pd\n"
   ]
  },
  {
   "cell_type": "code",
   "execution_count": 40,
   "id": "b6f9dcf0",
   "metadata": {},
   "outputs": [
    {
     "name": "stdout",
     "output_type": "stream",
     "text": [
      "         date  Both  Nifty  Tesla  Unknown\n",
      "0  2024-12-15   NaN    NaN    NaN      NaN\n",
      "1  2024-12-20   NaN    NaN    NaN      NaN\n",
      "2  2024-12-22   NaN    NaN    NaN      NaN\n",
      "3  2024-12-29   NaN    NaN    NaN      NaN\n",
      "4  2025-01-01   NaN    NaN    NaN      NaN\n",
      "5  2025-01-04   NaN    NaN    NaN      NaN\n",
      "6  2025-01-05   NaN    NaN    NaN      NaN\n",
      "7  2025-01-12   NaN    NaN    NaN      NaN\n",
      "8  2025-01-15   NaN    NaN    NaN      NaN\n",
      "9  2025-01-18   NaN    NaN    NaN      NaN\n",
      "date        object\n",
      "Both       float64\n",
      "Nifty      float64\n",
      "Tesla      float64\n",
      "Unknown    float64\n",
      "dtype: object\n",
      "2024-12-15 2025-06-11\n"
     ]
    }
   ],
   "source": [
    "print(daily_sentiment_pivot.head(10))\n",
    "print(daily_sentiment_pivot.dtypes)\n",
    "print(daily_sentiment_pivot[\"date\"].min(), daily_sentiment_pivot[\"date\"].max())\n"
   ]
  },
  {
   "cell_type": "code",
   "execution_count": 42,
   "id": "ac13a2cb",
   "metadata": {},
   "outputs": [
    {
     "name": "stderr",
     "output_type": "stream",
     "text": [
      "C:\\Users\\vishnu vardhan\\AppData\\Local\\Temp\\ipykernel_19044\\1477001693.py:6: FutureWarning: YF.download() has changed argument auto_adjust default to True\n",
      "  tesla_df = yf.download(\"TSLA\", start=start_date, end=end_date)[[\"Close\"]].reset_index()\n",
      "[*********************100%***********************]  1 of 1 completed\n",
      "C:\\Users\\vishnu vardhan\\AppData\\Local\\Temp\\ipykernel_19044\\1477001693.py:9: FutureWarning: YF.download() has changed argument auto_adjust default to True\n",
      "  nifty_df = yf.download(\"^NSEI\", start=start_date, end=end_date)[[\"Close\"]].reset_index()\n",
      "[*********************100%***********************]  1 of 1 completed"
     ]
    },
    {
     "name": "stdout",
     "output_type": "stream",
     "text": [
      "         date  tesla_close   nifty_close  Both  Nifty  Tesla  Unknown\n",
      "0  2024-12-02   357.089996  24276.050781   NaN    NaN    NaN      NaN\n",
      "1  2024-12-03   351.420013  24457.150391   NaN    NaN    NaN      NaN\n",
      "2  2024-12-04   357.929993  24467.449219   NaN    NaN    NaN      NaN\n",
      "3  2024-12-05   369.489990  24708.400391   NaN    NaN    NaN      NaN\n",
      "4  2024-12-06   389.220001  24677.800781   NaN    NaN    NaN      NaN\n",
      "Shape of merged data: (124, 7) date             0\n",
      "tesla_close      0\n",
      "nifty_close      0\n",
      "Both           119\n",
      "Nifty           86\n",
      "Tesla          105\n",
      "Unknown        104\n",
      "dtype: int64\n"
     ]
    },
    {
     "name": "stderr",
     "output_type": "stream",
     "text": [
      "\n"
     ]
    }
   ],
   "source": [
    "# 1. Set correct range based on sentiment dates\n",
    "start_date = \"2024-12-01\"\n",
    "end_date = \"2025-06-11\"\n",
    "\n",
    "# 2. Download updated price data\n",
    "tesla_df = yf.download(\"TSLA\", start=start_date, end=end_date)[[\"Close\"]].reset_index()\n",
    "tesla_df.columns = [\"date\", \"tesla_close\"]\n",
    "\n",
    "nifty_df = yf.download(\"^NSEI\", start=start_date, end=end_date)[[\"Close\"]].reset_index()\n",
    "nifty_df.columns = [\"date\", \"nifty_close\"]\n",
    "\n",
    "# 3. Convert price data to datetime.date\n",
    "tesla_df[\"date\"] = pd.to_datetime(tesla_df[\"date\"]).dt.date\n",
    "nifty_df[\"date\"] = pd.to_datetime(nifty_df[\"date\"]).dt.date\n",
    "\n",
    "# 4. Prepare sentiment scores\n",
    "# Map sentiment labels to numeric values\n",
    "sentiment_map = {\"positive\": 1, \"neutral\": 0, \"negative\": -1}\n",
    "# Normalize case before mapping\n",
    "combined_df[\"sentiment_score\"] = combined_df[\"sentiment\"].str.lower().map(sentiment_map)\n",
    "\n",
    "\n",
    "# 5. Group by date and topic to get average daily sentiment\n",
    "# Rebuild daily sentiment mean per topic\n",
    "daily_sentiment = combined_df.groupby([\"date\", \"topic\"])[\"sentiment_score\"].mean().reset_index()\n",
    "\n",
    "# Pivot to wide format\n",
    "daily_sentiment_pivot = daily_sentiment.pivot(index=\"date\", columns=\"topic\", values=\"sentiment_score\").reset_index()\n",
    "daily_sentiment_pivot.columns.name = None\n",
    "\n",
    "\n",
    "# 7. Ensure dates are datetime.date (to match yfinance)\n",
    "trading_dates = set(tesla_df[\"date\"])\n",
    "daily_sentiment_pivot = daily_sentiment_pivot[daily_sentiment_pivot[\"date\"].isin(trading_dates)]\n",
    "\n",
    "\n",
    "# 8. Merge all data using inner join to get only common trading days\n",
    "merged = tesla_df.merge(nifty_df, on=\"date\", how=\"inner\")\n",
    "merged = merged.merge(daily_sentiment_pivot, on=\"date\", how=\"left\")\n",
    "\n",
    "\n",
    "# 9. Save final merged file and inspect\n",
    "merged.to_csv(\"merged_sentiment_price.csv\", index=False)\n",
    "print(merged.head())\n",
    "print(\"Shape of merged data:\", merged.shape, merged.isnull().sum())\n"
   ]
  },
  {
   "cell_type": "code",
   "execution_count": 43,
   "id": "1c568895",
   "metadata": {},
   "outputs": [
    {
     "name": "stdout",
     "output_type": "stream",
     "text": [
      "         date  tesla_close   nifty_close  Both  Nifty  Tesla  Unknown\n",
      "0  2024-12-02   357.089996  24276.050781   NaN    NaN    NaN      NaN\n",
      "1  2024-12-03   351.420013  24457.150391   NaN    NaN    NaN      NaN\n",
      "2  2024-12-04   357.929993  24467.449219   NaN    NaN    NaN      NaN\n",
      "3  2024-12-05   369.489990  24708.400391   NaN    NaN    NaN      NaN\n",
      "4  2024-12-06   389.220001  24677.800781   NaN    NaN    NaN      NaN\n",
      "Shape of merged data: (124, 7) date             0\n",
      "tesla_close      0\n",
      "nifty_close      0\n",
      "Both           119\n",
      "Nifty           86\n",
      "Tesla          105\n",
      "Unknown        104\n",
      "dtype: int64\n"
     ]
    }
   ],
   "source": [
    "print(merged.head())\n",
    "print(\"Shape of merged data:\", merged.shape, merged.isnull().sum())"
   ]
  },
  {
   "cell_type": "code",
   "execution_count": 44,
   "id": "9ec7f6d9",
   "metadata": {},
   "outputs": [
    {
     "data": {
      "image/png": "[encoded data removed]",
      "text/plain": [
       "<Figure size 1400x600 with 1 Axes>"
      ]
     },
     "metadata": {},
     "output_type": "display_data"
    }
   ],
   "source": [
    "import matplotlib.pyplot as plt\n",
    "import seaborn as sns\n",
    "\n",
    "# Set style\n",
    "plt.style.use(\"seaborn-v0_8-darkgrid\")\n",
    "plt.figure(figsize=(14, 6))\n",
    "\n",
    "# Plot sentiment scores\n",
    "sns.lineplot(data=merged, x=\"date\", y=\"Tesla\", label=\"Tesla Sentiment\")\n",
    "sns.lineplot(data=merged, x=\"date\", y=\"Nifty\", label=\"Nifty Sentiment\")\n",
    "\n",
    "plt.title(\"Daily Sentiment Scores Over Time\")\n",
    "plt.xlabel(\"Date\")\n",
    "plt.ylabel(\"Average Sentiment Score\")\n",
    "plt.legend()\n",
    "plt.xticks(rotation=45)\n",
    "plt.tight_layout()\n",
    "plt.show()\n"
   ]
  },
  {
   "cell_type": "code",
   "execution_count": 45,
   "id": "674ad701",
   "metadata": {},
   "outputs": [
    {
     "name": "stdout",
     "output_type": "stream",
     "text": [
      "Correlation matrix:\n",
      "                Tesla     Nifty  tesla_close  nifty_close\n",
      "Tesla        1.000000  0.085355     0.016509     0.451956\n",
      "Nifty        0.085355  1.000000    -0.556519     0.364252\n",
      "tesla_close  0.016509 -0.556519     1.000000    -0.267146\n",
      "nifty_close  0.451956  0.364252    -0.267146     1.000000\n"
     ]
    }
   ],
   "source": [
    "# Only use rows with valid sentiment\n",
    "corr_df = merged[[\"Tesla\", \"Nifty\", \"tesla_close\", \"nifty_close\"]].dropna()\n",
    "\n",
    "# Correlation matrix\n",
    "correlation = corr_df.corr()\n",
    "\n",
    "print(\"Correlation matrix:\")\n",
    "print(correlation)\n"
   ]
  },
  {
   "cell_type": "code",
   "execution_count": 46,
   "id": "65bf5ede",
   "metadata": {},
   "outputs": [
    {
     "name": "stdout",
     "output_type": "stream",
     "text": [
      "Lagged Correlation Matrix:\n",
      "              Tesla_lag  Nifty_lag  tesla_close  nifty_close\n",
      "Tesla_lag     1.000000   0.026787     0.166699     0.546417\n",
      "Nifty_lag     0.026787   1.000000    -0.375534     0.226736\n",
      "tesla_close   0.166699  -0.375534     1.000000    -0.246930\n",
      "nifty_close   0.546417   0.226736    -0.246930     1.000000\n"
     ]
    }
   ],
   "source": [
    "# Create a lagged version of sentiment scores (yesterday's sentiment)\n",
    "merged[\"Tesla_lag\"] = merged[\"Tesla\"].shift(1)\n",
    "merged[\"Nifty_lag\"] = merged[\"Nifty\"].shift(1)\n",
    "\n",
    "# Drop rows with NaNs caused by shift\n",
    "lagged_df = merged.dropna(subset=[\"Tesla_lag\", \"Nifty_lag\", \"tesla_close\", \"nifty_close\"])\n",
    "\n",
    "# Calculate lag correlation\n",
    "lag_correlation = lagged_df[[\"Tesla_lag\", \"Nifty_lag\", \"tesla_close\", \"nifty_close\"]].corr()\n",
    "\n",
    "print(\"Lagged Correlation Matrix:\\n\", lag_correlation)\n"
   ]
  },
  {
   "cell_type": "code",
   "execution_count": null,
   "id": "f479eb57",
   "metadata": {},
   "outputs": [],
   "source": []
  },
  {
   "cell_type": "markdown",
   "id": "144f79c3",
   "metadata": {},
   "source": [
    "📈 Backtesting Strategy Plan"
   ]
  },
  {
   "cell_type": "markdown",
   "id": "5281b735",
   "metadata": {},
   "source": [
    "✅ Strategy:\n",
    "If Tesla sentiment on day t-1 > 0, buy and hold Tesla for day t (i.e., assume we act on yesterday’s sentiment).\n",
    "\n",
    "Likewise, if Nifty sentiment on day t-1 > 0, buy Nifty for day t.\n",
    "\n",
    "Track daily returns from this strategy and compare it to buy-and-hold."
   ]
  },
  {
   "cell_type": "code",
   "execution_count": 55,
   "id": "536ab2b1",
   "metadata": {},
   "outputs": [
    {
     "name": "stdout",
     "output_type": "stream",
     "text": [
      "Tesla Strategy Final Return: -4.04%\n",
      "Tesla Buy & Hold Return: -8.68%\n",
      "Nifty Strategy Final Return: 0.18%\n",
      "Nifty Buy & Hold Return: 3.41%\n"
     ]
    }
   ],
   "source": [
    "import numpy as np\n",
    "\n",
    "# 1. Sort data\n",
    "merged.sort_values(\"date\", inplace=True)\n",
    "merged.reset_index(drop=True, inplace=True)\n",
    "\n",
    "# 2. Compute daily returns\n",
    "merged[\"tesla_return\"] = merged[\"tesla_close\"].pct_change()\n",
    "merged[\"nifty_return\"] = merged[\"nifty_close\"].pct_change()\n",
    "\n",
    "# 3. Shift sentiment by 1 day to simulate \"acting on yesterday’s sentiment\"\n",
    "merged[\"Tesla_signal\"] = merged[\"Tesla\"].shift(1)\n",
    "merged[\"Nifty_signal\"] = merged[\"Nifty\"].shift(1)\n",
    "\n",
    "# 4. Strategy returns: only invest when signal > 0\n",
    "merged[\"tesla_strategy_return\"] = merged[\"tesla_return\"] * (merged[\"Tesla_signal\"] > 0)\n",
    "merged[\"nifty_strategy_return\"] = merged[\"nifty_return\"] * (merged[\"Nifty_signal\"] > 0)\n",
    "\n",
    "# 5. Cumulative returns\n",
    "merged[\"tesla_cum_strategy\"] = (1 + merged[\"tesla_strategy_return\"]).cumprod()\n",
    "merged[\"tesla_cum_buyhold\"] = (1 + merged[\"tesla_return\"]).cumprod()\n",
    "\n",
    "merged[\"nifty_cum_strategy\"] = (1 + merged[\"nifty_strategy_return\"]).cumprod()\n",
    "merged[\"nifty_cum_buyhold\"] = (1 + merged[\"nifty_return\"]).cumprod()\n",
    "\n",
    "# 6. Final returns\n",
    "final_tesla_strategy = merged[\"tesla_cum_strategy\"].iloc[-1]\n",
    "final_tesla_buyhold = merged[\"tesla_cum_buyhold\"].iloc[-1]\n",
    "\n",
    "final_nifty_strategy = merged[\"nifty_cum_strategy\"].iloc[-1]\n",
    "final_nifty_buyhold = merged[\"nifty_cum_buyhold\"].iloc[-1]\n",
    "\n",
    "print(\"Tesla Strategy Final Return: {:.2f}%\".format((final_tesla_strategy - 1) * 100))\n",
    "print(\"Tesla Buy & Hold Return: {:.2f}%\".format((final_tesla_buyhold - 1) * 100))\n",
    "\n",
    "print(\"Nifty Strategy Final Return: {:.2f}%\".format((final_nifty_strategy - 1) * 100))\n",
    "print(\"Nifty Buy & Hold Return: {:.2f}%\".format((final_nifty_buyhold - 1) * 100))\n"
   ]
  },
  {
   "cell_type": "code",
   "execution_count": null,
   "id": "b20cd05b",
   "metadata": {},
   "outputs": [],
   "source": [
    "# GAPPPP"
   ]
  },
  {
   "cell_type": "code",
   "execution_count": null,
   "id": "08901d20",
   "metadata": {},
   "outputs": [],
   "source": [
    "pip install yfinance"
   ]
  }
 ],
 "metadata": {
  "kernelspec": {
   "display_name": "base",
   "language": "python",
   "name": "python3"
  },
  "language_info": {
   "codemirror_mode": {
    "name": "ipython",
    "version": 3
   },
   "file_extension": ".py",
   "mimetype": "text/x-python",
   "name": "python",
   "nbconvert_exporter": "python",
   "pygments_lexer": "ipython3",
   "version": "3.12.4"
  }
 },
 "nbformat": 4,
 "nbformat_minor": 5
}
